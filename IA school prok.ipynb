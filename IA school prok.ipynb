{
 "cells": [
  {
   "cell_type": "markdown",
   "metadata": {},
   "source": [
    "# Analyse des prix des Airbnb de New-York City"
   ]
  },
  {
   "cell_type": "markdown",
   "metadata": {},
   "source": [
    "Vous êtes Data Analyst chez Airbnb et êtes missionné(e) pour comprendre les données spécifiques à New-York afin de faire les meilleures recommandations. \n",
    "\n",
    "Le travail qui vous est demandé contient nécessaire deux parties, mais peut être poussé plus loin en fonction du temps que vous avez et des idées que vous proposez.\n",
    "\n",
    "- Vous devez faire une \"Exploratory Data Analysis\" (EDA) complète du jeu de données. \n",
    "Plusieurs questions clefs sont mentionnées, n'hésitez pas à apporter vous même un regard neuf sur les données, à faire des analyses complémentaires, à les interpreter et commenter.\n",
    "- Vous devez produire un modèle prédictif du prix d'un logement Airbnb, ce modèle servira à conseiller au mieux les clients (propriétaires d'appartement) sur le prix qu'ils peuvent proposer à leurs hôtes. \n",
    "\n",
    "Votre déliverable contient ce notebook d'analyses ainsi qu'une présentation type powerpoint que vous ferez telle que si vous aviez été en face du Chief Data Officer d'Airbnb (vous aurez 20 minutes + 10 minutes questions). Vous devrez m'envoyer une version presque finie du notebook la veille de votre soutenance à 12h. \n",
    "\n",
    "Naturellement, ce notebook doit être commenté et écrit de façon claire et lisible (en respectant au mieux les règles - voir sur en ligne - pour écrire proprement du code). "
   ]
  },
  {
   "cell_type": "markdown",
   "metadata": {},
   "source": [
    "## Données "
   ]
  },
  {
   "cell_type": "markdown",
   "metadata": {},
   "source": [
    "### Packages "
   ]
  },
  {
   "cell_type": "markdown",
   "metadata": {},
   "source": [
    "Structurez votre code en regroupant tous les packages utilisés ici. Cela permet notamment d'installer les packages manquant avec '!pip install' dès le début du notebook si besoin."
   ]
  },
  {
   "cell_type": "code",
   "execution_count": 1,
   "metadata": {},
   "outputs": [],
   "source": [
    "#!pip install pandas"
   ]
  },
  {
   "cell_type": "code",
   "execution_count": 4,
   "metadata": {},
   "outputs": [],
   "source": [
    "import pandas as pd\n",
    "import numpy as np\n",
    "import matplotlib.pyplot as plt \n",
    "import matplotlib.image as mpimg"
   ]
  },
  {
   "cell_type": "markdown",
   "metadata": {},
   "source": [
    "### Téléchargement "
   ]
  },
  {
   "cell_type": "markdown",
   "metadata": {},
   "source": [
    "Les données peuvent être téléchargées avec le lien suivant :\n",
    "https://www.kaggle.com/dgomonov/new-york-city-airbnb-open-data/download\n",
    "\n",
    "Elles doivent être décompressées, puis placées dans le répertoire contenant ce notebook.\n",
    "\n",
    "Elles contiennent un fichier CSV \"AB_NYC_2019.csv\" ainsi qu'une carte de NYC \"New_York_City_.png\" vous permettant de représenter graphiquement certaines de vos analyses."
   ]
  },
  {
   "cell_type": "code",
   "execution_count": 5,
   "metadata": {},
   "outputs": [],
   "source": [
    "AB_NYC_2019 = pd.read_csv(\"AB_NYC_2019.csv\")"
   ]
  },
  {
   "cell_type": "code",
   "execution_count": 6,
   "metadata": {},
   "outputs": [
    {
     "data": {
      "text/html": [
       "<div>\n",
       "<style scoped>\n",
       "    .dataframe tbody tr th:only-of-type {\n",
       "        vertical-align: middle;\n",
       "    }\n",
       "\n",
       "    .dataframe tbody tr th {\n",
       "        vertical-align: top;\n",
       "    }\n",
       "\n",
       "    .dataframe thead th {\n",
       "        text-align: right;\n",
       "    }\n",
       "</style>\n",
       "<table border=\"1\" class=\"dataframe\">\n",
       "  <thead>\n",
       "    <tr style=\"text-align: right;\">\n",
       "      <th></th>\n",
       "      <th>id</th>\n",
       "      <th>name</th>\n",
       "      <th>host_id</th>\n",
       "      <th>host_name</th>\n",
       "      <th>neighbourhood_group</th>\n",
       "      <th>neighbourhood</th>\n",
       "      <th>latitude</th>\n",
       "      <th>longitude</th>\n",
       "      <th>room_type</th>\n",
       "      <th>price</th>\n",
       "      <th>minimum_nights</th>\n",
       "      <th>number_of_reviews</th>\n",
       "      <th>last_review</th>\n",
       "      <th>reviews_per_month</th>\n",
       "      <th>calculated_host_listings_count</th>\n",
       "      <th>availability_365</th>\n",
       "    </tr>\n",
       "  </thead>\n",
       "  <tbody>\n",
       "    <tr>\n",
       "      <td>0</td>\n",
       "      <td>2539</td>\n",
       "      <td>Clean &amp; quiet apt home by the park</td>\n",
       "      <td>2787</td>\n",
       "      <td>John</td>\n",
       "      <td>Brooklyn</td>\n",
       "      <td>Kensington</td>\n",
       "      <td>40.64749</td>\n",
       "      <td>-73.97237</td>\n",
       "      <td>Private room</td>\n",
       "      <td>149</td>\n",
       "      <td>1</td>\n",
       "      <td>9</td>\n",
       "      <td>2018-10-19</td>\n",
       "      <td>0.21</td>\n",
       "      <td>6</td>\n",
       "      <td>365</td>\n",
       "    </tr>\n",
       "    <tr>\n",
       "      <td>1</td>\n",
       "      <td>2595</td>\n",
       "      <td>Skylit Midtown Castle</td>\n",
       "      <td>2845</td>\n",
       "      <td>Jennifer</td>\n",
       "      <td>Manhattan</td>\n",
       "      <td>Midtown</td>\n",
       "      <td>40.75362</td>\n",
       "      <td>-73.98377</td>\n",
       "      <td>Entire home/apt</td>\n",
       "      <td>225</td>\n",
       "      <td>1</td>\n",
       "      <td>45</td>\n",
       "      <td>2019-05-21</td>\n",
       "      <td>0.38</td>\n",
       "      <td>2</td>\n",
       "      <td>355</td>\n",
       "    </tr>\n",
       "    <tr>\n",
       "      <td>2</td>\n",
       "      <td>3647</td>\n",
       "      <td>THE VILLAGE OF HARLEM....NEW YORK !</td>\n",
       "      <td>4632</td>\n",
       "      <td>Elisabeth</td>\n",
       "      <td>Manhattan</td>\n",
       "      <td>Harlem</td>\n",
       "      <td>40.80902</td>\n",
       "      <td>-73.94190</td>\n",
       "      <td>Private room</td>\n",
       "      <td>150</td>\n",
       "      <td>3</td>\n",
       "      <td>0</td>\n",
       "      <td>NaN</td>\n",
       "      <td>NaN</td>\n",
       "      <td>1</td>\n",
       "      <td>365</td>\n",
       "    </tr>\n",
       "    <tr>\n",
       "      <td>3</td>\n",
       "      <td>3831</td>\n",
       "      <td>Cozy Entire Floor of Brownstone</td>\n",
       "      <td>4869</td>\n",
       "      <td>LisaRoxanne</td>\n",
       "      <td>Brooklyn</td>\n",
       "      <td>Clinton Hill</td>\n",
       "      <td>40.68514</td>\n",
       "      <td>-73.95976</td>\n",
       "      <td>Entire home/apt</td>\n",
       "      <td>89</td>\n",
       "      <td>1</td>\n",
       "      <td>270</td>\n",
       "      <td>2019-07-05</td>\n",
       "      <td>4.64</td>\n",
       "      <td>1</td>\n",
       "      <td>194</td>\n",
       "    </tr>\n",
       "    <tr>\n",
       "      <td>4</td>\n",
       "      <td>5022</td>\n",
       "      <td>Entire Apt: Spacious Studio/Loft by central park</td>\n",
       "      <td>7192</td>\n",
       "      <td>Laura</td>\n",
       "      <td>Manhattan</td>\n",
       "      <td>East Harlem</td>\n",
       "      <td>40.79851</td>\n",
       "      <td>-73.94399</td>\n",
       "      <td>Entire home/apt</td>\n",
       "      <td>80</td>\n",
       "      <td>10</td>\n",
       "      <td>9</td>\n",
       "      <td>2018-11-19</td>\n",
       "      <td>0.10</td>\n",
       "      <td>1</td>\n",
       "      <td>0</td>\n",
       "    </tr>\n",
       "  </tbody>\n",
       "</table>\n",
       "</div>"
      ],
      "text/plain": [
       "     id                                              name  host_id  \\\n",
       "0  2539                Clean & quiet apt home by the park     2787   \n",
       "1  2595                             Skylit Midtown Castle     2845   \n",
       "2  3647               THE VILLAGE OF HARLEM....NEW YORK !     4632   \n",
       "3  3831                   Cozy Entire Floor of Brownstone     4869   \n",
       "4  5022  Entire Apt: Spacious Studio/Loft by central park     7192   \n",
       "\n",
       "     host_name neighbourhood_group neighbourhood  latitude  longitude  \\\n",
       "0         John            Brooklyn    Kensington  40.64749  -73.97237   \n",
       "1     Jennifer           Manhattan       Midtown  40.75362  -73.98377   \n",
       "2    Elisabeth           Manhattan        Harlem  40.80902  -73.94190   \n",
       "3  LisaRoxanne            Brooklyn  Clinton Hill  40.68514  -73.95976   \n",
       "4        Laura           Manhattan   East Harlem  40.79851  -73.94399   \n",
       "\n",
       "         room_type  price  minimum_nights  number_of_reviews last_review  \\\n",
       "0     Private room    149               1                  9  2018-10-19   \n",
       "1  Entire home/apt    225               1                 45  2019-05-21   \n",
       "2     Private room    150               3                  0         NaN   \n",
       "3  Entire home/apt     89               1                270  2019-07-05   \n",
       "4  Entire home/apt     80              10                  9  2018-11-19   \n",
       "\n",
       "   reviews_per_month  calculated_host_listings_count  availability_365  \n",
       "0               0.21                               6               365  \n",
       "1               0.38                               2               355  \n",
       "2                NaN                               1               365  \n",
       "3               4.64                               1               194  \n",
       "4               0.10                               1                 0  "
      ]
     },
     "execution_count": 6,
     "metadata": {},
     "output_type": "execute_result"
    }
   ],
   "source": [
    "AB_NYC_2019.head()"
   ]
  },
  {
   "cell_type": "code",
   "execution_count": 7,
   "metadata": {},
   "outputs": [
    {
     "data": {
      "image/png": "[encoded data removed]",
      "text/plain": [
       "<Figure size 1440x720 with 1 Axes>"
      ]
     },
     "metadata": {
      "needs_background": "light"
     },
     "output_type": "display_data"
    }
   ],
   "source": [
    "plt.rcParams[\"figure.figsize\"] = (20,10)\n",
    "nyc = mpimg.imread('New_York_City_.png', 0)\n",
    "plt.imshow(nyc)\n",
    "plt.show()"
   ]
  },
  {
   "cell_type": "markdown",
   "metadata": {},
   "source": [
    "### Transformations "
   ]
  },
  {
   "cell_type": "markdown",
   "metadata": {},
   "source": [
    "Vous pouvez transformer les données comme bon vous semble (Data Cleaning - Data Preparation)."
   ]
  },
  {
   "cell_type": "markdown",
   "metadata": {},
   "source": [
    "import pandas_profiling\n",
    "AB_NYC_2019.profile_report(style={'full_width':True})"
   ]
  },
  {
   "cell_type": "markdown",
   "metadata": {},
   "source": [
    "## Exploratory Data Analysis"
   ]
  },
  {
   "cell_type": "markdown",
   "metadata": {},
   "source": [
    "### Questions requises"
   ]
  },
  {
   "cell_type": "markdown",
   "metadata": {},
   "source": [
    "Pour chacune de ces questions, il vous est demandé d'analyser finement et de conserver et commenter les analyses / graphiques qui vous semblent pertinents."
   ]
  },
  {
   "cell_type": "markdown",
   "metadata": {},
   "source": [
    "#### Description des variables"
   ]
  },
  {
   "cell_type": "markdown",
   "metadata": {},
   "source": [
    "Analysez et commentez les distributions des valeurs prises par les variables catégorielles et quantitatives."
   ]
  },
  {
   "cell_type": "code",
   "execution_count": 9,
   "metadata": {},
   "outputs": [
    {
     "data": {
      "text/plain": [
       "Index(['id', 'name', 'host_id', 'host_name', 'neighbourhood_group',\n",
       "       'neighbourhood', 'latitude', 'longitude', 'room_type', 'price',\n",
       "       'minimum_nights', 'number_of_reviews', 'last_review',\n",
       "       'reviews_per_month', 'calculated_host_listings_count',\n",
       "       'availability_365'],\n",
       "      dtype='object')"
      ]
     },
     "execution_count": 9,
     "metadata": {},
     "output_type": "execute_result"
    }
   ],
   "source": [
    "AB_NYC_2019.columns\n"
   ]
  },
  {
   "cell_type": "code",
   "execution_count": 54,
   "metadata": {},
   "outputs": [
    {
     "data": {
      "text/plain": [
       "<matplotlib.axes._subplots.AxesSubplot at 0x21d3f792a48>"
      ]
     },
     "execution_count": 54,
     "metadata": {},
     "output_type": "execute_result"
    },
    {
     "data": {
      "image/png": "[encoded data removed]",
      "text/plain": [
       "<Figure size 1440x720 with 1 Axes>"
      ]
     },
     "metadata": {
      "needs_background": "light"
     },
     "output_type": "display_data"
    }
   ],
   "source": [
    "AB_NYC_2019.neighbourhood_group.hist(bins=10)"
   ]
  },
  {
   "cell_type": "markdown",
   "metadata": {},
   "source": [
    "Creation d'un data frame en regroupant les donnée par Gros cartier"
   ]
  },
  {
   "cell_type": "code",
   "execution_count": 66,
   "metadata": {},
   "outputs": [],
   "source": [
    "NYC_GR = AB_NYC_2019.groupby('neighbourhood_group').count()"
   ]
  },
  {
   "cell_type": "code",
   "execution_count": 67,
   "metadata": {},
   "outputs": [
    {
     "data": {
      "text/html": [
       "<div>\n",
       "<style scoped>\n",
       "    .dataframe tbody tr th:only-of-type {\n",
       "        vertical-align: middle;\n",
       "    }\n",
       "\n",
       "    .dataframe tbody tr th {\n",
       "        vertical-align: top;\n",
       "    }\n",
       "\n",
       "    .dataframe thead th {\n",
       "        text-align: right;\n",
       "    }\n",
       "</style>\n",
       "<table border=\"1\" class=\"dataframe\">\n",
       "  <thead>\n",
       "    <tr style=\"text-align: right;\">\n",
       "      <th></th>\n",
       "      <th>id</th>\n",
       "      <th>name</th>\n",
       "      <th>host_id</th>\n",
       "      <th>host_name</th>\n",
       "      <th>neighbourhood</th>\n",
       "      <th>latitude</th>\n",
       "      <th>longitude</th>\n",
       "      <th>room_type</th>\n",
       "      <th>price</th>\n",
       "      <th>minimum_nights</th>\n",
       "      <th>number_of_reviews</th>\n",
       "      <th>last_review</th>\n",
       "      <th>reviews_per_month</th>\n",
       "      <th>calculated_host_listings_count</th>\n",
       "      <th>availability_365</th>\n",
       "    </tr>\n",
       "    <tr>\n",
       "      <th>neighbourhood_group</th>\n",
       "      <th></th>\n",
       "      <th></th>\n",
       "      <th></th>\n",
       "      <th></th>\n",
       "      <th></th>\n",
       "      <th></th>\n",
       "      <th></th>\n",
       "      <th></th>\n",
       "      <th></th>\n",
       "      <th></th>\n",
       "      <th></th>\n",
       "      <th></th>\n",
       "      <th></th>\n",
       "      <th></th>\n",
       "      <th></th>\n",
       "    </tr>\n",
       "  </thead>\n",
       "  <tbody>\n",
       "    <tr>\n",
       "      <td>Bronx</td>\n",
       "      <td>1091</td>\n",
       "      <td>1090</td>\n",
       "      <td>1091</td>\n",
       "      <td>1090</td>\n",
       "      <td>1091</td>\n",
       "      <td>1091</td>\n",
       "      <td>1091</td>\n",
       "      <td>1091</td>\n",
       "      <td>1091</td>\n",
       "      <td>1091</td>\n",
       "      <td>1091</td>\n",
       "      <td>876</td>\n",
       "      <td>876</td>\n",
       "      <td>1091</td>\n",
       "      <td>1091</td>\n",
       "    </tr>\n",
       "    <tr>\n",
       "      <td>Brooklyn</td>\n",
       "      <td>20104</td>\n",
       "      <td>20098</td>\n",
       "      <td>20104</td>\n",
       "      <td>20095</td>\n",
       "      <td>20104</td>\n",
       "      <td>20104</td>\n",
       "      <td>20104</td>\n",
       "      <td>20104</td>\n",
       "      <td>20104</td>\n",
       "      <td>20104</td>\n",
       "      <td>20104</td>\n",
       "      <td>16447</td>\n",
       "      <td>16447</td>\n",
       "      <td>20104</td>\n",
       "      <td>20104</td>\n",
       "    </tr>\n",
       "    <tr>\n",
       "      <td>Manhattan</td>\n",
       "      <td>21661</td>\n",
       "      <td>21652</td>\n",
       "      <td>21661</td>\n",
       "      <td>21652</td>\n",
       "      <td>21661</td>\n",
       "      <td>21661</td>\n",
       "      <td>21661</td>\n",
       "      <td>21661</td>\n",
       "      <td>21661</td>\n",
       "      <td>21661</td>\n",
       "      <td>21661</td>\n",
       "      <td>16632</td>\n",
       "      <td>16632</td>\n",
       "      <td>21661</td>\n",
       "      <td>21661</td>\n",
       "    </tr>\n",
       "    <tr>\n",
       "      <td>Queens</td>\n",
       "      <td>5666</td>\n",
       "      <td>5666</td>\n",
       "      <td>5666</td>\n",
       "      <td>5664</td>\n",
       "      <td>5666</td>\n",
       "      <td>5666</td>\n",
       "      <td>5666</td>\n",
       "      <td>5666</td>\n",
       "      <td>5666</td>\n",
       "      <td>5666</td>\n",
       "      <td>5666</td>\n",
       "      <td>4574</td>\n",
       "      <td>4574</td>\n",
       "      <td>5666</td>\n",
       "      <td>5666</td>\n",
       "    </tr>\n",
       "    <tr>\n",
       "      <td>Staten Island</td>\n",
       "      <td>373</td>\n",
       "      <td>373</td>\n",
       "      <td>373</td>\n",
       "      <td>373</td>\n",
       "      <td>373</td>\n",
       "      <td>373</td>\n",
       "      <td>373</td>\n",
       "      <td>373</td>\n",
       "      <td>373</td>\n",
       "      <td>373</td>\n",
       "      <td>373</td>\n",
       "      <td>314</td>\n",
       "      <td>314</td>\n",
       "      <td>373</td>\n",
       "      <td>373</td>\n",
       "    </tr>\n",
       "  </tbody>\n",
       "</table>\n",
       "</div>"
      ],
      "text/plain": [
       "                        id   name  host_id  host_name  neighbourhood  \\\n",
       "neighbourhood_group                                                    \n",
       "Bronx                 1091   1090     1091       1090           1091   \n",
       "Brooklyn             20104  20098    20104      20095          20104   \n",
       "Manhattan            21661  21652    21661      21652          21661   \n",
       "Queens                5666   5666     5666       5664           5666   \n",
       "Staten Island          373    373      373        373            373   \n",
       "\n",
       "                     latitude  longitude  room_type  price  minimum_nights  \\\n",
       "neighbourhood_group                                                          \n",
       "Bronx                    1091       1091       1091   1091            1091   \n",
       "Brooklyn                20104      20104      20104  20104           20104   \n",
       "Manhattan               21661      21661      21661  21661           21661   \n",
       "Queens                   5666       5666       5666   5666            5666   \n",
       "Staten Island             373        373        373    373             373   \n",
       "\n",
       "                     number_of_reviews  last_review  reviews_per_month  \\\n",
       "neighbourhood_group                                                      \n",
       "Bronx                             1091          876                876   \n",
       "Brooklyn                         20104        16447              16447   \n",
       "Manhattan                        21661        16632              16632   \n",
       "Queens                            5666         4574               4574   \n",
       "Staten Island                      373          314                314   \n",
       "\n",
       "                     calculated_host_listings_count  availability_365  \n",
       "neighbourhood_group                                                    \n",
       "Bronx                                          1091              1091  \n",
       "Brooklyn                                      20104             20104  \n",
       "Manhattan                                     21661             21661  \n",
       "Queens                                         5666              5666  \n",
       "Staten Island                                   373               373  "
      ]
     },
     "execution_count": 67,
     "metadata": {},
     "output_type": "execute_result"
    }
   ],
   "source": [
    "NYC_GR.head()"
   ]
  },
  {
   "cell_type": "code",
   "execution_count": 72,
   "metadata": {},
   "outputs": [
    {
     "data": {
      "text/plain": [
       "neighbourhood_group\n",
       "Bronx             1091\n",
       "Brooklyn         20104\n",
       "Manhattan        21661\n",
       "Queens            5666\n",
       "Staten Island      373\n",
       "Name: price, dtype: int64"
      ]
     },
     "execution_count": 72,
     "metadata": {},
     "output_type": "execute_result"
    }
   ],
   "source": [
    "NYC_GR.price"
   ]
  },
  {
   "cell_type": "markdown",
   "metadata": {},
   "source": [
    "nombre de 'maison' dans chaque appartement"
   ]
  },
  {
   "cell_type": "code",
   "execution_count": 36,
   "metadata": {},
   "outputs": [
    {
     "data": {
      "text/plain": [
       "<matplotlib.axes._subplots.AxesSubplot at 0x21d3d2334c8>"
      ]
     },
     "execution_count": 36,
     "metadata": {},
     "output_type": "execute_result"
    },
    {
     "data": {
      "image/png": "[encoded data removed]",
      "text/plain": [
       "<Figure size 1440x720 with 1 Axes>"
      ]
     },
     "metadata": {
      "needs_background": "light"
     },
     "output_type": "display_data"
    }
   ],
   "source": [
    "AB_NYC_2019.price.hist(bins=1000)"
   ]
  },
  {
   "cell_type": "markdown",
   "metadata": {},
   "source": [
    "On observe une majorité de la concentration des prix autour des 400,500 dollars.\n",
    "Nous decidons donc d'afficher l'histoigramme de ces valeurs"
   ]
  },
  {
   "cell_type": "code",
   "execution_count": 50,
   "metadata": {},
   "outputs": [
    {
     "data": {
      "text/plain": [
       "<matplotlib.axes._subplots.AxesSubplot at 0x21d3e2cafc8>"
      ]
     },
     "execution_count": 50,
     "metadata": {},
     "output_type": "execute_result"
    },
    {
     "data": {
      "image/png": "[encoded data removed]",
      "text/plain": [
       "<Figure size 1440x720 with 1 Axes>"
      ]
     },
     "metadata": {
      "needs_background": "light"
     },
     "output_type": "display_data"
    }
   ],
   "source": [
    "AB_NYC_2019.price[AB_NYC_2019.price<=400].hist(bins=400)  #globalité des prix < 400"
   ]
  },
  {
   "cell_type": "code",
   "execution_count": 70,
   "metadata": {},
   "outputs": [
    {
     "name": "stdout",
     "output_type": "stream",
     "text": [
      "3.61% des appartemant a louer pour + de 400 dollard\n"
     ]
    }
   ],
   "source": [
    "#Précisons combien de données nous filtrons en ne regardant que les prix en dessous ou égal à 400 dollars\n",
    "print(str(round(len(AB_NYC_2019.host_id[AB_NYC_2019.price > 400])/len(AB_NYC_2019)*100,2)) + '% des appartemant a louer pour + de 400 dollard')"
   ]
  },
  {
   "cell_type": "code",
   "execution_count": 28,
   "metadata": {},
   "outputs": [
    {
     "data": {
      "text/plain": [
       "count    48895.000000\n",
       "mean       152.720687\n",
       "std        240.154170\n",
       "min          0.000000\n",
       "25%         69.000000\n",
       "50%        106.000000\n",
       "75%        175.000000\n",
       "max      10000.000000\n",
       "Name: price, dtype: float64"
      ]
     },
     "execution_count": 28,
     "metadata": {},
     "output_type": "execute_result"
    }
   ],
   "source": [
    "AB_NYC_2019.price.describe()"
   ]
  },
  {
   "cell_type": "code",
   "execution_count": 49,
   "metadata": {},
   "outputs": [
    {
     "data": {
      "text/plain": [
       "48895"
      ]
     },
     "execution_count": 49,
     "metadata": {},
     "output_type": "execute_result"
    }
   ],
   "source": [
    "AB_NYC_2019.host_id.count()"
   ]
  },
  {
   "cell_type": "code",
   "execution_count": 51,
   "metadata": {},
   "outputs": [
    {
     "data": {
      "text/plain": [
       "47132"
      ]
     },
     "execution_count": 51,
     "metadata": {},
     "output_type": "execute_result"
    }
   ],
   "source": [
    "AB_NYC_2019.price[AB_NYC_2019.price<=400].count()"
   ]
  },
  {
   "cell_type": "code",
   "execution_count": null,
   "metadata": {},
   "outputs": [],
   "source": []
  },
  {
   "cell_type": "code",
   "execution_count": 69,
   "metadata": {},
   "outputs": [
    {
     "data": {
      "text/html": [
       "<style  type=\"text/css\" >\n",
       "    #T_c3cbdf06_3392_11ea_829b_d8cb8af1a667row0_col0 {\n",
       "            background-color:  #b40426;\n",
       "            color:  #f1f1f1;\n",
       "        }    #T_c3cbdf06_3392_11ea_829b_d8cb8af1a667row0_col1 {\n",
       "            background-color:  #f5c0a7;\n",
       "            color:  #000000;\n",
       "        }    #T_c3cbdf06_3392_11ea_829b_d8cb8af1a667row0_col2 {\n",
       "            background-color:  #3e51c5;\n",
       "            color:  #f1f1f1;\n",
       "        }    #T_c3cbdf06_3392_11ea_829b_d8cb8af1a667row0_col3 {\n",
       "            background-color:  #7ea1fa;\n",
       "            color:  #000000;\n",
       "        }    #T_c3cbdf06_3392_11ea_829b_d8cb8af1a667row0_col4 {\n",
       "            background-color:  #6687ed;\n",
       "            color:  #000000;\n",
       "        }    #T_c3cbdf06_3392_11ea_829b_d8cb8af1a667row0_col5 {\n",
       "            background-color:  #5875e1;\n",
       "            color:  #000000;\n",
       "        }    #T_c3cbdf06_3392_11ea_829b_d8cb8af1a667row0_col6 {\n",
       "            background-color:  #3b4cc0;\n",
       "            color:  #f1f1f1;\n",
       "        }    #T_c3cbdf06_3392_11ea_829b_d8cb8af1a667row0_col7 {\n",
       "            background-color:  #b6cefa;\n",
       "            color:  #000000;\n",
       "        }    #T_c3cbdf06_3392_11ea_829b_d8cb8af1a667row0_col8 {\n",
       "            background-color:  #82a6fb;\n",
       "            color:  #000000;\n",
       "        }    #T_c3cbdf06_3392_11ea_829b_d8cb8af1a667row0_col9 {\n",
       "            background-color:  #5875e1;\n",
       "            color:  #000000;\n",
       "        }    #T_c3cbdf06_3392_11ea_829b_d8cb8af1a667row1_col0 {\n",
       "            background-color:  #f7b093;\n",
       "            color:  #000000;\n",
       "        }    #T_c3cbdf06_3392_11ea_829b_d8cb8af1a667row1_col1 {\n",
       "            background-color:  #b40426;\n",
       "            color:  #f1f1f1;\n",
       "        }    #T_c3cbdf06_3392_11ea_829b_d8cb8af1a667row1_col2 {\n",
       "            background-color:  #445acc;\n",
       "            color:  #f1f1f1;\n",
       "        }    #T_c3cbdf06_3392_11ea_829b_d8cb8af1a667row1_col3 {\n",
       "            background-color:  #89acfd;\n",
       "            color:  #000000;\n",
       "        }    #T_c3cbdf06_3392_11ea_829b_d8cb8af1a667row1_col4 {\n",
       "            background-color:  #6788ee;\n",
       "            color:  #000000;\n",
       "        }    #T_c3cbdf06_3392_11ea_829b_d8cb8af1a667row1_col5 {\n",
       "            background-color:  #5673e0;\n",
       "            color:  #000000;\n",
       "        }    #T_c3cbdf06_3392_11ea_829b_d8cb8af1a667row1_col6 {\n",
       "            background-color:  #6485ec;\n",
       "            color:  #000000;\n",
       "        }    #T_c3cbdf06_3392_11ea_829b_d8cb8af1a667row1_col7 {\n",
       "            background-color:  #b7cff9;\n",
       "            color:  #000000;\n",
       "        }    #T_c3cbdf06_3392_11ea_829b_d8cb8af1a667row1_col8 {\n",
       "            background-color:  #89acfd;\n",
       "            color:  #000000;\n",
       "        }    #T_c3cbdf06_3392_11ea_829b_d8cb8af1a667row1_col9 {\n",
       "            background-color:  #80a3fa;\n",
       "            color:  #000000;\n",
       "        }    #T_c3cbdf06_3392_11ea_829b_d8cb8af1a667row2_col0 {\n",
       "            background-color:  #89acfd;\n",
       "            color:  #000000;\n",
       "        }    #T_c3cbdf06_3392_11ea_829b_d8cb8af1a667row2_col1 {\n",
       "            background-color:  #6788ee;\n",
       "            color:  #000000;\n",
       "        }    #T_c3cbdf06_3392_11ea_829b_d8cb8af1a667row2_col2 {\n",
       "            background-color:  #b40426;\n",
       "            color:  #f1f1f1;\n",
       "        }    #T_c3cbdf06_3392_11ea_829b_d8cb8af1a667row2_col3 {\n",
       "            background-color:  #7da0f9;\n",
       "            color:  #000000;\n",
       "        }    #T_c3cbdf06_3392_11ea_829b_d8cb8af1a667row2_col4 {\n",
       "            background-color:  #6c8ff1;\n",
       "            color:  #000000;\n",
       "        }    #T_c3cbdf06_3392_11ea_829b_d8cb8af1a667row2_col5 {\n",
       "            background-color:  #6384eb;\n",
       "            color:  #000000;\n",
       "        }    #T_c3cbdf06_3392_11ea_829b_d8cb8af1a667row2_col6 {\n",
       "            background-color:  #86a9fc;\n",
       "            color:  #000000;\n",
       "        }    #T_c3cbdf06_3392_11ea_829b_d8cb8af1a667row2_col7 {\n",
       "            background-color:  #5977e3;\n",
       "            color:  #000000;\n",
       "        }    #T_c3cbdf06_3392_11ea_829b_d8cb8af1a667row2_col8 {\n",
       "            background-color:  #5f7fe8;\n",
       "            color:  #000000;\n",
       "        }    #T_c3cbdf06_3392_11ea_829b_d8cb8af1a667row2_col9 {\n",
       "            background-color:  #3b4cc0;\n",
       "            color:  #f1f1f1;\n",
       "        }    #T_c3cbdf06_3392_11ea_829b_d8cb8af1a667row3_col0 {\n",
       "            background-color:  #a2c1ff;\n",
       "            color:  #000000;\n",
       "        }    #T_c3cbdf06_3392_11ea_829b_d8cb8af1a667row3_col1 {\n",
       "            background-color:  #86a9fc;\n",
       "            color:  #000000;\n",
       "        }    #T_c3cbdf06_3392_11ea_829b_d8cb8af1a667row3_col2 {\n",
       "            background-color:  #5977e3;\n",
       "            color:  #000000;\n",
       "        }    #T_c3cbdf06_3392_11ea_829b_d8cb8af1a667row3_col3 {\n",
       "            background-color:  #b40426;\n",
       "            color:  #f1f1f1;\n",
       "        }    #T_c3cbdf06_3392_11ea_829b_d8cb8af1a667row3_col4 {\n",
       "            background-color:  #3b4cc0;\n",
       "            color:  #f1f1f1;\n",
       "        }    #T_c3cbdf06_3392_11ea_829b_d8cb8af1a667row3_col5 {\n",
       "            background-color:  #4a63d3;\n",
       "            color:  #f1f1f1;\n",
       "        }    #T_c3cbdf06_3392_11ea_829b_d8cb8af1a667row3_col6 {\n",
       "            background-color:  #9abbff;\n",
       "            color:  #000000;\n",
       "        }    #T_c3cbdf06_3392_11ea_829b_d8cb8af1a667row3_col7 {\n",
       "            background-color:  #89acfd;\n",
       "            color:  #000000;\n",
       "        }    #T_c3cbdf06_3392_11ea_829b_d8cb8af1a667row3_col8 {\n",
       "            background-color:  #3b4cc0;\n",
       "            color:  #f1f1f1;\n",
       "        }    #T_c3cbdf06_3392_11ea_829b_d8cb8af1a667row3_col9 {\n",
       "            background-color:  #5673e0;\n",
       "            color:  #000000;\n",
       "        }    #T_c3cbdf06_3392_11ea_829b_d8cb8af1a667row4_col0 {\n",
       "            background-color:  #8db0fe;\n",
       "            color:  #000000;\n",
       "        }    #T_c3cbdf06_3392_11ea_829b_d8cb8af1a667row4_col1 {\n",
       "            background-color:  #6485ec;\n",
       "            color:  #000000;\n",
       "        }    #T_c3cbdf06_3392_11ea_829b_d8cb8af1a667row4_col2 {\n",
       "            background-color:  #4961d2;\n",
       "            color:  #f1f1f1;\n",
       "        }    #T_c3cbdf06_3392_11ea_829b_d8cb8af1a667row4_col3 {\n",
       "            background-color:  #3b4cc0;\n",
       "            color:  #f1f1f1;\n",
       "        }    #T_c3cbdf06_3392_11ea_829b_d8cb8af1a667row4_col4 {\n",
       "            background-color:  #b40426;\n",
       "            color:  #f1f1f1;\n",
       "        }    #T_c3cbdf06_3392_11ea_829b_d8cb8af1a667row4_col5 {\n",
       "            background-color:  #688aef;\n",
       "            color:  #000000;\n",
       "        }    #T_c3cbdf06_3392_11ea_829b_d8cb8af1a667row4_col6 {\n",
       "            background-color:  #7da0f9;\n",
       "            color:  #000000;\n",
       "        }    #T_c3cbdf06_3392_11ea_829b_d8cb8af1a667row4_col7 {\n",
       "            background-color:  #536edd;\n",
       "            color:  #000000;\n",
       "        }    #T_c3cbdf06_3392_11ea_829b_d8cb8af1a667row4_col8 {\n",
       "            background-color:  #6b8df0;\n",
       "            color:  #000000;\n",
       "        }    #T_c3cbdf06_3392_11ea_829b_d8cb8af1a667row4_col9 {\n",
       "            background-color:  #5673e0;\n",
       "            color:  #000000;\n",
       "        }    #T_c3cbdf06_3392_11ea_829b_d8cb8af1a667row5_col0 {\n",
       "            background-color:  #86a9fc;\n",
       "            color:  #000000;\n",
       "        }    #T_c3cbdf06_3392_11ea_829b_d8cb8af1a667row5_col1 {\n",
       "            background-color:  #5b7ae5;\n",
       "            color:  #000000;\n",
       "        }    #T_c3cbdf06_3392_11ea_829b_d8cb8af1a667row5_col2 {\n",
       "            background-color:  #465ecf;\n",
       "            color:  #f1f1f1;\n",
       "        }    #T_c3cbdf06_3392_11ea_829b_d8cb8af1a667row5_col3 {\n",
       "            background-color:  #516ddb;\n",
       "            color:  #000000;\n",
       "        }    #T_c3cbdf06_3392_11ea_829b_d8cb8af1a667row5_col4 {\n",
       "            background-color:  #6f92f3;\n",
       "            color:  #000000;\n",
       "        }    #T_c3cbdf06_3392_11ea_829b_d8cb8af1a667row5_col5 {\n",
       "            background-color:  #b40426;\n",
       "            color:  #f1f1f1;\n",
       "        }    #T_c3cbdf06_3392_11ea_829b_d8cb8af1a667row5_col6 {\n",
       "            background-color:  #7597f6;\n",
       "            color:  #000000;\n",
       "        }    #T_c3cbdf06_3392_11ea_829b_d8cb8af1a667row5_col7 {\n",
       "            background-color:  #3b4cc0;\n",
       "            color:  #f1f1f1;\n",
       "        }    #T_c3cbdf06_3392_11ea_829b_d8cb8af1a667row5_col8 {\n",
       "            background-color:  #81a4fb;\n",
       "            color:  #000000;\n",
       "        }    #T_c3cbdf06_3392_11ea_829b_d8cb8af1a667row5_col9 {\n",
       "            background-color:  #6b8df0;\n",
       "            color:  #000000;\n",
       "        }    #T_c3cbdf06_3392_11ea_829b_d8cb8af1a667row6_col0 {\n",
       "            background-color:  #3b4cc0;\n",
       "            color:  #f1f1f1;\n",
       "        }    #T_c3cbdf06_3392_11ea_829b_d8cb8af1a667row6_col1 {\n",
       "            background-color:  #3b4cc0;\n",
       "            color:  #f1f1f1;\n",
       "        }    #T_c3cbdf06_3392_11ea_829b_d8cb8af1a667row6_col2 {\n",
       "            background-color:  #3b4cc0;\n",
       "            color:  #f1f1f1;\n",
       "        }    #T_c3cbdf06_3392_11ea_829b_d8cb8af1a667row6_col3 {\n",
       "            background-color:  #7597f6;\n",
       "            color:  #000000;\n",
       "        }    #T_c3cbdf06_3392_11ea_829b_d8cb8af1a667row6_col4 {\n",
       "            background-color:  #5572df;\n",
       "            color:  #000000;\n",
       "        }    #T_c3cbdf06_3392_11ea_829b_d8cb8af1a667row6_col5 {\n",
       "            background-color:  #455cce;\n",
       "            color:  #f1f1f1;\n",
       "        }    #T_c3cbdf06_3392_11ea_829b_d8cb8af1a667row6_col6 {\n",
       "            background-color:  #b40426;\n",
       "            color:  #f1f1f1;\n",
       "        }    #T_c3cbdf06_3392_11ea_829b_d8cb8af1a667row6_col7 {\n",
       "            background-color:  #f2cbb7;\n",
       "            color:  #000000;\n",
       "        }    #T_c3cbdf06_3392_11ea_829b_d8cb8af1a667row6_col8 {\n",
       "            background-color:  #455cce;\n",
       "            color:  #f1f1f1;\n",
       "        }    #T_c3cbdf06_3392_11ea_829b_d8cb8af1a667row6_col9 {\n",
       "            background-color:  #7597f6;\n",
       "            color:  #000000;\n",
       "        }    #T_c3cbdf06_3392_11ea_829b_d8cb8af1a667row7_col0 {\n",
       "            background-color:  #d3dbe7;\n",
       "            color:  #000000;\n",
       "        }    #T_c3cbdf06_3392_11ea_829b_d8cb8af1a667row7_col1 {\n",
       "            background-color:  #bbd1f8;\n",
       "            color:  #000000;\n",
       "        }    #T_c3cbdf06_3392_11ea_829b_d8cb8af1a667row7_col2 {\n",
       "            background-color:  #3c4ec2;\n",
       "            color:  #f1f1f1;\n",
       "        }    #T_c3cbdf06_3392_11ea_829b_d8cb8af1a667row7_col3 {\n",
       "            background-color:  #8fb1fe;\n",
       "            color:  #000000;\n",
       "        }    #T_c3cbdf06_3392_11ea_829b_d8cb8af1a667row7_col4 {\n",
       "            background-color:  #5a78e4;\n",
       "            color:  #000000;\n",
       "        }    #T_c3cbdf06_3392_11ea_829b_d8cb8af1a667row7_col5 {\n",
       "            background-color:  #3b4cc0;\n",
       "            color:  #f1f1f1;\n",
       "        }    #T_c3cbdf06_3392_11ea_829b_d8cb8af1a667row7_col6 {\n",
       "            background-color:  #f7ba9f;\n",
       "            color:  #000000;\n",
       "        }    #T_c3cbdf06_3392_11ea_829b_d8cb8af1a667row7_col7 {\n",
       "            background-color:  #b40426;\n",
       "            color:  #f1f1f1;\n",
       "        }    #T_c3cbdf06_3392_11ea_829b_d8cb8af1a667row7_col8 {\n",
       "            background-color:  #5875e1;\n",
       "            color:  #000000;\n",
       "        }    #T_c3cbdf06_3392_11ea_829b_d8cb8af1a667row7_col9 {\n",
       "            background-color:  #799cf8;\n",
       "            color:  #000000;\n",
       "        }    #T_c3cbdf06_3392_11ea_829b_d8cb8af1a667row8_col0 {\n",
       "            background-color:  #adc9fd;\n",
       "            color:  #000000;\n",
       "        }    #T_c3cbdf06_3392_11ea_829b_d8cb8af1a667row8_col1 {\n",
       "            background-color:  #90b2fe;\n",
       "            color:  #000000;\n",
       "        }    #T_c3cbdf06_3392_11ea_829b_d8cb8af1a667row8_col2 {\n",
       "            background-color:  #445acc;\n",
       "            color:  #f1f1f1;\n",
       "        }    #T_c3cbdf06_3392_11ea_829b_d8cb8af1a667row8_col3 {\n",
       "            background-color:  #4358cb;\n",
       "            color:  #f1f1f1;\n",
       "        }    #T_c3cbdf06_3392_11ea_829b_d8cb8af1a667row8_col4 {\n",
       "            background-color:  #7597f6;\n",
       "            color:  #000000;\n",
       "        }    #T_c3cbdf06_3392_11ea_829b_d8cb8af1a667row8_col5 {\n",
       "            background-color:  #82a6fb;\n",
       "            color:  #000000;\n",
       "        }    #T_c3cbdf06_3392_11ea_829b_d8cb8af1a667row8_col6 {\n",
       "            background-color:  #7699f6;\n",
       "            color:  #000000;\n",
       "        }    #T_c3cbdf06_3392_11ea_829b_d8cb8af1a667row8_col7 {\n",
       "            background-color:  #5977e3;\n",
       "            color:  #000000;\n",
       "        }    #T_c3cbdf06_3392_11ea_829b_d8cb8af1a667row8_col8 {\n",
       "            background-color:  #b40426;\n",
       "            color:  #f1f1f1;\n",
       "        }    #T_c3cbdf06_3392_11ea_829b_d8cb8af1a667row8_col9 {\n",
       "            background-color:  #86a9fc;\n",
       "            color:  #000000;\n",
       "        }    #T_c3cbdf06_3392_11ea_829b_d8cb8af1a667row9_col0 {\n",
       "            background-color:  #a1c0ff;\n",
       "            color:  #000000;\n",
       "        }    #T_c3cbdf06_3392_11ea_829b_d8cb8af1a667row9_col1 {\n",
       "            background-color:  #9fbfff;\n",
       "            color:  #000000;\n",
       "        }    #T_c3cbdf06_3392_11ea_829b_d8cb8af1a667row9_col2 {\n",
       "            background-color:  #3c4ec2;\n",
       "            color:  #f1f1f1;\n",
       "        }    #T_c3cbdf06_3392_11ea_829b_d8cb8af1a667row9_col3 {\n",
       "            background-color:  #7b9ff9;\n",
       "            color:  #000000;\n",
       "        }    #T_c3cbdf06_3392_11ea_829b_d8cb8af1a667row9_col4 {\n",
       "            background-color:  #7b9ff9;\n",
       "            color:  #000000;\n",
       "        }    #T_c3cbdf06_3392_11ea_829b_d8cb8af1a667row9_col5 {\n",
       "            background-color:  #88abfd;\n",
       "            color:  #000000;\n",
       "        }    #T_c3cbdf06_3392_11ea_829b_d8cb8af1a667row9_col6 {\n",
       "            background-color:  #b7cff9;\n",
       "            color:  #000000;\n",
       "        }    #T_c3cbdf06_3392_11ea_829b_d8cb8af1a667row9_col7 {\n",
       "            background-color:  #96b7ff;\n",
       "            color:  #000000;\n",
       "        }    #T_c3cbdf06_3392_11ea_829b_d8cb8af1a667row9_col8 {\n",
       "            background-color:  #a1c0ff;\n",
       "            color:  #000000;\n",
       "        }    #T_c3cbdf06_3392_11ea_829b_d8cb8af1a667row9_col9 {\n",
       "            background-color:  #b40426;\n",
       "            color:  #f1f1f1;\n",
       "        }</style><table id=\"T_c3cbdf06_3392_11ea_829b_d8cb8af1a667\" ><thead>    <tr>        <th class=\"blank level0\" ></th>        <th class=\"col_heading level0 col0\" >id</th>        <th class=\"col_heading level0 col1\" >host_id</th>        <th class=\"col_heading level0 col2\" >latitude</th>        <th class=\"col_heading level0 col3\" >longitude</th>        <th class=\"col_heading level0 col4\" >price</th>        <th class=\"col_heading level0 col5\" >minimum_nights</th>        <th class=\"col_heading level0 col6\" >number_of_reviews</th>        <th class=\"col_heading level0 col7\" >reviews_per_month</th>        <th class=\"col_heading level0 col8\" >calculated_host_listings_count</th>        <th class=\"col_heading level0 col9\" >availability_365</th>    </tr></thead><tbody>\n",
       "                <tr>\n",
       "                        <th id=\"T_c3cbdf06_3392_11ea_829b_d8cb8af1a667level0_row0\" class=\"row_heading level0 row0\" >id</th>\n",
       "                        <td id=\"T_c3cbdf06_3392_11ea_829b_d8cb8af1a667row0_col0\" class=\"data row0 col0\" >1</td>\n",
       "                        <td id=\"T_c3cbdf06_3392_11ea_829b_d8cb8af1a667row0_col1\" class=\"data row0 col1\" >0.58829</td>\n",
       "                        <td id=\"T_c3cbdf06_3392_11ea_829b_d8cb8af1a667row0_col2\" class=\"data row0 col2\" >-0.00312529</td>\n",
       "                        <td id=\"T_c3cbdf06_3392_11ea_829b_d8cb8af1a667row0_col3\" class=\"data row0 col3\" >0.0909085</td>\n",
       "                        <td id=\"T_c3cbdf06_3392_11ea_829b_d8cb8af1a667row0_col4\" class=\"data row0 col4\" >0.0106187</td>\n",
       "                        <td id=\"T_c3cbdf06_3392_11ea_829b_d8cb8af1a667row0_col5\" class=\"data row0 col5\" >-0.0132245</td>\n",
       "                        <td id=\"T_c3cbdf06_3392_11ea_829b_d8cb8af1a667row0_col6\" class=\"data row0 col6\" >-0.31976</td>\n",
       "                        <td id=\"T_c3cbdf06_3392_11ea_829b_d8cb8af1a667row0_col7\" class=\"data row0 col7\" >0.291828</td>\n",
       "                        <td id=\"T_c3cbdf06_3392_11ea_829b_d8cb8af1a667row0_col8\" class=\"data row0 col8\" >0.133272</td>\n",
       "                        <td id=\"T_c3cbdf06_3392_11ea_829b_d8cb8af1a667row0_col9\" class=\"data row0 col9\" >0.0854676</td>\n",
       "            </tr>\n",
       "            <tr>\n",
       "                        <th id=\"T_c3cbdf06_3392_11ea_829b_d8cb8af1a667level0_row1\" class=\"row_heading level0 row1\" >host_id</th>\n",
       "                        <td id=\"T_c3cbdf06_3392_11ea_829b_d8cb8af1a667row1_col0\" class=\"data row1 col0\" >0.58829</td>\n",
       "                        <td id=\"T_c3cbdf06_3392_11ea_829b_d8cb8af1a667row1_col1\" class=\"data row1 col1\" >1</td>\n",
       "                        <td id=\"T_c3cbdf06_3392_11ea_829b_d8cb8af1a667row1_col2\" class=\"data row1 col2\" >0.0202242</td>\n",
       "                        <td id=\"T_c3cbdf06_3392_11ea_829b_d8cb8af1a667row1_col3\" class=\"data row1 col3\" >0.127055</td>\n",
       "                        <td id=\"T_c3cbdf06_3392_11ea_829b_d8cb8af1a667row1_col4\" class=\"data row1 col4\" >0.0153091</td>\n",
       "                        <td id=\"T_c3cbdf06_3392_11ea_829b_d8cb8af1a667row1_col5\" class=\"data row1 col5\" >-0.0173643</td>\n",
       "                        <td id=\"T_c3cbdf06_3392_11ea_829b_d8cb8af1a667row1_col6\" class=\"data row1 col6\" >-0.140106</td>\n",
       "                        <td id=\"T_c3cbdf06_3392_11ea_829b_d8cb8af1a667row1_col7\" class=\"data row1 col7\" >0.296417</td>\n",
       "                        <td id=\"T_c3cbdf06_3392_11ea_829b_d8cb8af1a667row1_col8\" class=\"data row1 col8\" >0.15495</td>\n",
       "                        <td id=\"T_c3cbdf06_3392_11ea_829b_d8cb8af1a667row1_col9\" class=\"data row1 col9\" >0.203492</td>\n",
       "            </tr>\n",
       "            <tr>\n",
       "                        <th id=\"T_c3cbdf06_3392_11ea_829b_d8cb8af1a667level0_row2\" class=\"row_heading level0 row2\" >latitude</th>\n",
       "                        <td id=\"T_c3cbdf06_3392_11ea_829b_d8cb8af1a667row2_col0\" class=\"data row2 col0\" >-0.00312529</td>\n",
       "                        <td id=\"T_c3cbdf06_3392_11ea_829b_d8cb8af1a667row2_col1\" class=\"data row2 col1\" >0.0202242</td>\n",
       "                        <td id=\"T_c3cbdf06_3392_11ea_829b_d8cb8af1a667row2_col2\" class=\"data row2 col2\" >1</td>\n",
       "                        <td id=\"T_c3cbdf06_3392_11ea_829b_d8cb8af1a667row2_col3\" class=\"data row2 col3\" >0.0847884</td>\n",
       "                        <td id=\"T_c3cbdf06_3392_11ea_829b_d8cb8af1a667row2_col4\" class=\"data row2 col4\" >0.0339387</td>\n",
       "                        <td id=\"T_c3cbdf06_3392_11ea_829b_d8cb8af1a667row2_col5\" class=\"data row2 col5\" >0.0248693</td>\n",
       "                        <td id=\"T_c3cbdf06_3392_11ea_829b_d8cb8af1a667row2_col6\" class=\"data row2 col6\" >-0.0153888</td>\n",
       "                        <td id=\"T_c3cbdf06_3392_11ea_829b_d8cb8af1a667row2_col7\" class=\"data row2 col7\" >-0.0101416</td>\n",
       "                        <td id=\"T_c3cbdf06_3392_11ea_829b_d8cb8af1a667row2_col8\" class=\"data row2 col8\" >0.0195174</td>\n",
       "                        <td id=\"T_c3cbdf06_3392_11ea_829b_d8cb8af1a667row2_col9\" class=\"data row2 col9\" >-0.0109835</td>\n",
       "            </tr>\n",
       "            <tr>\n",
       "                        <th id=\"T_c3cbdf06_3392_11ea_829b_d8cb8af1a667level0_row3\" class=\"row_heading level0 row3\" >longitude</th>\n",
       "                        <td id=\"T_c3cbdf06_3392_11ea_829b_d8cb8af1a667row3_col0\" class=\"data row3 col0\" >0.0909085</td>\n",
       "                        <td id=\"T_c3cbdf06_3392_11ea_829b_d8cb8af1a667row3_col1\" class=\"data row3 col1\" >0.127055</td>\n",
       "                        <td id=\"T_c3cbdf06_3392_11ea_829b_d8cb8af1a667row3_col2\" class=\"data row3 col2\" >0.0847884</td>\n",
       "                        <td id=\"T_c3cbdf06_3392_11ea_829b_d8cb8af1a667row3_col3\" class=\"data row3 col3\" >1</td>\n",
       "                        <td id=\"T_c3cbdf06_3392_11ea_829b_d8cb8af1a667row3_col4\" class=\"data row3 col4\" >-0.150019</td>\n",
       "                        <td id=\"T_c3cbdf06_3392_11ea_829b_d8cb8af1a667row3_col5\" class=\"data row3 col5\" >-0.0627471</td>\n",
       "                        <td id=\"T_c3cbdf06_3392_11ea_829b_d8cb8af1a667row3_col6\" class=\"data row3 col6\" >0.0590943</td>\n",
       "                        <td id=\"T_c3cbdf06_3392_11ea_829b_d8cb8af1a667row3_col7\" class=\"data row3 col7\" >0.145948</td>\n",
       "                        <td id=\"T_c3cbdf06_3392_11ea_829b_d8cb8af1a667row3_col8\" class=\"data row3 col8\" >-0.114713</td>\n",
       "                        <td id=\"T_c3cbdf06_3392_11ea_829b_d8cb8af1a667row3_col9\" class=\"data row3 col9\" >0.0827307</td>\n",
       "            </tr>\n",
       "            <tr>\n",
       "                        <th id=\"T_c3cbdf06_3392_11ea_829b_d8cb8af1a667level0_row4\" class=\"row_heading level0 row4\" >price</th>\n",
       "                        <td id=\"T_c3cbdf06_3392_11ea_829b_d8cb8af1a667row4_col0\" class=\"data row4 col0\" >0.0106187</td>\n",
       "                        <td id=\"T_c3cbdf06_3392_11ea_829b_d8cb8af1a667row4_col1\" class=\"data row4 col1\" >0.0153091</td>\n",
       "                        <td id=\"T_c3cbdf06_3392_11ea_829b_d8cb8af1a667row4_col2\" class=\"data row4 col2\" >0.0339387</td>\n",
       "                        <td id=\"T_c3cbdf06_3392_11ea_829b_d8cb8af1a667row4_col3\" class=\"data row4 col3\" >-0.150019</td>\n",
       "                        <td id=\"T_c3cbdf06_3392_11ea_829b_d8cb8af1a667row4_col4\" class=\"data row4 col4\" >1</td>\n",
       "                        <td id=\"T_c3cbdf06_3392_11ea_829b_d8cb8af1a667row4_col5\" class=\"data row4 col5\" >0.0427993</td>\n",
       "                        <td id=\"T_c3cbdf06_3392_11ea_829b_d8cb8af1a667row4_col6\" class=\"data row4 col6\" >-0.0479542</td>\n",
       "                        <td id=\"T_c3cbdf06_3392_11ea_829b_d8cb8af1a667row4_col7\" class=\"data row4 col7\" >-0.0306083</td>\n",
       "                        <td id=\"T_c3cbdf06_3392_11ea_829b_d8cb8af1a667row4_col8\" class=\"data row4 col8\" >0.0574717</td>\n",
       "                        <td id=\"T_c3cbdf06_3392_11ea_829b_d8cb8af1a667row4_col9\" class=\"data row4 col9\" >0.0818288</td>\n",
       "            </tr>\n",
       "            <tr>\n",
       "                        <th id=\"T_c3cbdf06_3392_11ea_829b_d8cb8af1a667level0_row5\" class=\"row_heading level0 row5\" >minimum_nights</th>\n",
       "                        <td id=\"T_c3cbdf06_3392_11ea_829b_d8cb8af1a667row5_col0\" class=\"data row5 col0\" >-0.0132245</td>\n",
       "                        <td id=\"T_c3cbdf06_3392_11ea_829b_d8cb8af1a667row5_col1\" class=\"data row5 col1\" >-0.0173643</td>\n",
       "                        <td id=\"T_c3cbdf06_3392_11ea_829b_d8cb8af1a667row5_col2\" class=\"data row5 col2\" >0.0248693</td>\n",
       "                        <td id=\"T_c3cbdf06_3392_11ea_829b_d8cb8af1a667row5_col3\" class=\"data row5 col3\" >-0.0627471</td>\n",
       "                        <td id=\"T_c3cbdf06_3392_11ea_829b_d8cb8af1a667row5_col4\" class=\"data row5 col4\" >0.0427993</td>\n",
       "                        <td id=\"T_c3cbdf06_3392_11ea_829b_d8cb8af1a667row5_col5\" class=\"data row5 col5\" >1</td>\n",
       "                        <td id=\"T_c3cbdf06_3392_11ea_829b_d8cb8af1a667row5_col6\" class=\"data row5 col6\" >-0.0801161</td>\n",
       "                        <td id=\"T_c3cbdf06_3392_11ea_829b_d8cb8af1a667row5_col7\" class=\"data row5 col7\" >-0.121702</td>\n",
       "                        <td id=\"T_c3cbdf06_3392_11ea_829b_d8cb8af1a667row5_col8\" class=\"data row5 col8\" >0.12796</td>\n",
       "                        <td id=\"T_c3cbdf06_3392_11ea_829b_d8cb8af1a667row5_col9\" class=\"data row5 col9\" >0.144303</td>\n",
       "            </tr>\n",
       "            <tr>\n",
       "                        <th id=\"T_c3cbdf06_3392_11ea_829b_d8cb8af1a667level0_row6\" class=\"row_heading level0 row6\" >number_of_reviews</th>\n",
       "                        <td id=\"T_c3cbdf06_3392_11ea_829b_d8cb8af1a667row6_col0\" class=\"data row6 col0\" >-0.31976</td>\n",
       "                        <td id=\"T_c3cbdf06_3392_11ea_829b_d8cb8af1a667row6_col1\" class=\"data row6 col1\" >-0.140106</td>\n",
       "                        <td id=\"T_c3cbdf06_3392_11ea_829b_d8cb8af1a667row6_col2\" class=\"data row6 col2\" >-0.0153888</td>\n",
       "                        <td id=\"T_c3cbdf06_3392_11ea_829b_d8cb8af1a667row6_col3\" class=\"data row6 col3\" >0.0590943</td>\n",
       "                        <td id=\"T_c3cbdf06_3392_11ea_829b_d8cb8af1a667row6_col4\" class=\"data row6 col4\" >-0.0479542</td>\n",
       "                        <td id=\"T_c3cbdf06_3392_11ea_829b_d8cb8af1a667row6_col5\" class=\"data row6 col5\" >-0.0801161</td>\n",
       "                        <td id=\"T_c3cbdf06_3392_11ea_829b_d8cb8af1a667row6_col6\" class=\"data row6 col6\" >1</td>\n",
       "                        <td id=\"T_c3cbdf06_3392_11ea_829b_d8cb8af1a667row6_col7\" class=\"data row6 col7\" >0.549868</td>\n",
       "                        <td id=\"T_c3cbdf06_3392_11ea_829b_d8cb8af1a667row6_col8\" class=\"data row6 col8\" >-0.0723761</td>\n",
       "                        <td id=\"T_c3cbdf06_3392_11ea_829b_d8cb8af1a667row6_col9\" class=\"data row6 col9\" >0.172028</td>\n",
       "            </tr>\n",
       "            <tr>\n",
       "                        <th id=\"T_c3cbdf06_3392_11ea_829b_d8cb8af1a667level0_row7\" class=\"row_heading level0 row7\" >reviews_per_month</th>\n",
       "                        <td id=\"T_c3cbdf06_3392_11ea_829b_d8cb8af1a667row7_col0\" class=\"data row7 col0\" >0.291828</td>\n",
       "                        <td id=\"T_c3cbdf06_3392_11ea_829b_d8cb8af1a667row7_col1\" class=\"data row7 col1\" >0.296417</td>\n",
       "                        <td id=\"T_c3cbdf06_3392_11ea_829b_d8cb8af1a667row7_col2\" class=\"data row7 col2\" >-0.0101416</td>\n",
       "                        <td id=\"T_c3cbdf06_3392_11ea_829b_d8cb8af1a667row7_col3\" class=\"data row7 col3\" >0.145948</td>\n",
       "                        <td id=\"T_c3cbdf06_3392_11ea_829b_d8cb8af1a667row7_col4\" class=\"data row7 col4\" >-0.0306083</td>\n",
       "                        <td id=\"T_c3cbdf06_3392_11ea_829b_d8cb8af1a667row7_col5\" class=\"data row7 col5\" >-0.121702</td>\n",
       "                        <td id=\"T_c3cbdf06_3392_11ea_829b_d8cb8af1a667row7_col6\" class=\"data row7 col6\" >0.549868</td>\n",
       "                        <td id=\"T_c3cbdf06_3392_11ea_829b_d8cb8af1a667row7_col7\" class=\"data row7 col7\" >1</td>\n",
       "                        <td id=\"T_c3cbdf06_3392_11ea_829b_d8cb8af1a667row7_col8\" class=\"data row7 col8\" >-0.00942116</td>\n",
       "                        <td id=\"T_c3cbdf06_3392_11ea_829b_d8cb8af1a667row7_col9\" class=\"data row7 col9\" >0.185791</td>\n",
       "            </tr>\n",
       "            <tr>\n",
       "                        <th id=\"T_c3cbdf06_3392_11ea_829b_d8cb8af1a667level0_row8\" class=\"row_heading level0 row8\" >calculated_host_listings_count</th>\n",
       "                        <td id=\"T_c3cbdf06_3392_11ea_829b_d8cb8af1a667row8_col0\" class=\"data row8 col0\" >0.133272</td>\n",
       "                        <td id=\"T_c3cbdf06_3392_11ea_829b_d8cb8af1a667row8_col1\" class=\"data row8 col1\" >0.15495</td>\n",
       "                        <td id=\"T_c3cbdf06_3392_11ea_829b_d8cb8af1a667row8_col2\" class=\"data row8 col2\" >0.0195174</td>\n",
       "                        <td id=\"T_c3cbdf06_3392_11ea_829b_d8cb8af1a667row8_col3\" class=\"data row8 col3\" >-0.114713</td>\n",
       "                        <td id=\"T_c3cbdf06_3392_11ea_829b_d8cb8af1a667row8_col4\" class=\"data row8 col4\" >0.0574717</td>\n",
       "                        <td id=\"T_c3cbdf06_3392_11ea_829b_d8cb8af1a667row8_col5\" class=\"data row8 col5\" >0.12796</td>\n",
       "                        <td id=\"T_c3cbdf06_3392_11ea_829b_d8cb8af1a667row8_col6\" class=\"data row8 col6\" >-0.0723761</td>\n",
       "                        <td id=\"T_c3cbdf06_3392_11ea_829b_d8cb8af1a667row8_col7\" class=\"data row8 col7\" >-0.00942116</td>\n",
       "                        <td id=\"T_c3cbdf06_3392_11ea_829b_d8cb8af1a667row8_col8\" class=\"data row8 col8\" >1</td>\n",
       "                        <td id=\"T_c3cbdf06_3392_11ea_829b_d8cb8af1a667row8_col9\" class=\"data row8 col9\" >0.225701</td>\n",
       "            </tr>\n",
       "            <tr>\n",
       "                        <th id=\"T_c3cbdf06_3392_11ea_829b_d8cb8af1a667level0_row9\" class=\"row_heading level0 row9\" >availability_365</th>\n",
       "                        <td id=\"T_c3cbdf06_3392_11ea_829b_d8cb8af1a667row9_col0\" class=\"data row9 col0\" >0.0854676</td>\n",
       "                        <td id=\"T_c3cbdf06_3392_11ea_829b_d8cb8af1a667row9_col1\" class=\"data row9 col1\" >0.203492</td>\n",
       "                        <td id=\"T_c3cbdf06_3392_11ea_829b_d8cb8af1a667row9_col2\" class=\"data row9 col2\" >-0.0109835</td>\n",
       "                        <td id=\"T_c3cbdf06_3392_11ea_829b_d8cb8af1a667row9_col3\" class=\"data row9 col3\" >0.0827307</td>\n",
       "                        <td id=\"T_c3cbdf06_3392_11ea_829b_d8cb8af1a667row9_col4\" class=\"data row9 col4\" >0.0818288</td>\n",
       "                        <td id=\"T_c3cbdf06_3392_11ea_829b_d8cb8af1a667row9_col5\" class=\"data row9 col5\" >0.144303</td>\n",
       "                        <td id=\"T_c3cbdf06_3392_11ea_829b_d8cb8af1a667row9_col6\" class=\"data row9 col6\" >0.172028</td>\n",
       "                        <td id=\"T_c3cbdf06_3392_11ea_829b_d8cb8af1a667row9_col7\" class=\"data row9 col7\" >0.185791</td>\n",
       "                        <td id=\"T_c3cbdf06_3392_11ea_829b_d8cb8af1a667row9_col8\" class=\"data row9 col8\" >0.225701</td>\n",
       "                        <td id=\"T_c3cbdf06_3392_11ea_829b_d8cb8af1a667row9_col9\" class=\"data row9 col9\" >1</td>\n",
       "            </tr>\n",
       "    </tbody></table>"
      ],
      "text/plain": [
       "<pandas.io.formats.style.Styler at 0x21d3f9f4b48>"
      ]
     },
     "execution_count": 69,
     "metadata": {},
     "output_type": "execute_result"
    }
   ],
   "source": [
    "AB_NYC_2019.corr().style.background_gradient(cmap='coolwarm')"
   ]
  },
  {
   "cell_type": "code",
   "execution_count": 78,
   "metadata": {},
   "outputs": [
    {
     "data": {
      "text/plain": [
       "<Figure size 1440x720 with 0 Axes>"
      ]
     },
     "execution_count": 78,
     "metadata": {},
     "output_type": "execute_result"
    },
    {
     "data": {
      "text/plain": [
       "<Figure size 1440x720 with 0 Axes>"
      ]
     },
     "metadata": {},
     "output_type": "display_data"
    }
   ],
   "source": [
    "plt.figure(1)"
   ]
  },
  {
   "cell_type": "markdown",
   "metadata": {},
   "source": [
    "#### Impact sur le prix "
   ]
  },
  {
   "cell_type": "markdown",
   "metadata": {},
   "source": [
    "Analysez et commentez le rôle joué par les différentes variables sur le prix de location."
   ]
  },
  {
   "cell_type": "code",
   "execution_count": null,
   "metadata": {},
   "outputs": [],
   "source": []
  },
  {
   "cell_type": "markdown",
   "metadata": {},
   "source": [
    "#### Corrélations "
   ]
  },
  {
   "cell_type": "markdown",
   "metadata": {},
   "source": [
    "Analysez et commentez les corrélations entre les différentes variables (quantitatives ? catégorielles ?)."
   ]
  },
  {
   "cell_type": "code",
   "execution_count": null,
   "metadata": {},
   "outputs": [],
   "source": []
  },
  {
   "cell_type": "markdown",
   "metadata": {},
   "source": [
    "#### Géographie"
   ]
  },
  {
   "cell_type": "markdown",
   "metadata": {},
   "source": [
    "Proposez une analyse intéressante et visuelle grâce à la carte de NYC."
   ]
  },
  {
   "cell_type": "code",
   "execution_count": null,
   "metadata": {},
   "outputs": [],
   "source": []
  },
  {
   "cell_type": "markdown",
   "metadata": {},
   "source": [
    "### Analyses complémentaires "
   ]
  },
  {
   "cell_type": "code",
   "execution_count": null,
   "metadata": {},
   "outputs": [],
   "source": []
  },
  {
   "cell_type": "markdown",
   "metadata": {},
   "source": [
    "## Prédiction du prix "
   ]
  },
  {
   "cell_type": "markdown",
   "metadata": {},
   "source": [
    "### Preprocessing"
   ]
  },
  {
   "cell_type": "markdown",
   "metadata": {},
   "source": [
    "Vous pouvez préprocesser les données / créer des nouvelles variables pertinentes."
   ]
  },
  {
   "cell_type": "markdown",
   "metadata": {},
   "source": [
    "### Modèles"
   ]
  },
  {
   "cell_type": "markdown",
   "metadata": {},
   "source": [
    "Vous devrez tester différents models (en appliquant un split Train Test à 70%) pour comparer leurs précisions (Root Mean Square Error - RMSE) et les discriminer (Bayesian Information Criteria - BIC).\n",
    "\n",
    "Il vous est demandé de traiter a minima un modèle linéaire, et un modèle à base d'arbres. Cherchez également à analyser l'importance des différentes variables dans vos modèles."
   ]
  },
  {
   "cell_type": "markdown",
   "metadata": {},
   "source": [
    "#### Modèle selectionné et résultats"
   ]
  },
  {
   "cell_type": "markdown",
   "metadata": {},
   "source": [
    "Expliquez ici pourquoi vous choisissez un certain modèle et ses résultats."
   ]
  }
 ],
 "metadata": {
  "kernelspec": {
   "display_name": "Python 3",
   "language": "python",
   "name": "python3"
  },
  "language_info": {
   "codemirror_mode": {
    "name": "ipython",
    "version": 3
   },
   "file_extension": ".py",
   "mimetype": "text/x-python",
   "name": "python",
   "nbconvert_exporter": "python",
   "pygments_lexer": "ipython3",
   "version": "3.7.4"
  },
  "toc": {
   "base_numbering": 1,
   "nav_menu": {},
   "number_sections": true,
   "sideBar": true,
   "skip_h1_title": true,
   "title_cell": "Table of Contents",
   "title_sidebar": "Contents",
   "toc_cell": false,
   "toc_position": {},
   "toc_section_display": true,
   "toc_window_display": true
  }
 },
 "nbformat": 4,
 "nbformat_minor": 2
}
